{
 "cells": [
  {
   "cell_type": "markdown",
   "metadata": {
    "id": "TvCOgj-Bhmd-"
   },
   "source": [
    "### Introduction to Python  \n",
    "\n",
    "Python is a versatile and beginner-friendly programming language known for its readability and simplicity. It’s widely used across industries and domains, including:  \n",
    "- **Web Development**: Frameworks like Django and Flask.  \n",
    "- **Data Science and Machine Learning**: Libraries like Pandas, NumPy, and TensorFlow.  \n",
    "- **Automation**: Writing scripts for repetitive tasks.  \n",
    "- **Game Development**: Prototyping and lightweight gaming projects.  \n",
    "- **Networking**: Automating network configurations and monitoring.  \n",
    "\n",
    "#### Features of Python  \n",
    "- **Easy to Learn**: Syntax resembles plain English, which makes it intuitive.  \n",
    "- **Dynamically Typed**: No need to declare variable types explicitly.  \n",
    "- **Interpreted**: Executes code line-by-line, making debugging easier.  \n",
    "- **Cross-Platform**: Runs seamlessly on Windows, macOS, and Linux.  \n",
    "- **Extensive Libraries**: A vast standard library and third-party modules.  \n",
    "- **Community Support**: Active forums and resources for learners.  \n",
    "\n",
    "---\n",
    "\n",
    "### Setting Up Python  \n",
    "\n",
    "#### Installation Steps  \n",
    "- **Download Python**: Visit [python.org](https://www.python.org/) and choose the version for your operating system.  \n",
    "- **Install Python**: During installation, ensure the \"Add Python to PATH\" option is checked.  \n",
    "\n",
    "#### Setting Up an Editor  \n",
    "- Use **IDLE** (comes pre-installed with Python).  \n",
    "- For enhanced productivity, install:  \n",
    "  - **Jupyter Notebook**: Great for interactive programming.  \n",
    "  - **VS Code**: A versatile editor with Python extensions.  \n",
    "\n",
    "#### Verifying Installation  \n",
    "- Open your terminal or command prompt.  \n",
    "- Type `python --version` (or `python3 --version` on macOS/Linux).  \n",
    "- If Python is installed correctly, the terminal displays the installed version (e.g., `Python 3.10.0`).  \n",
    "\n",
    "---\n"
   ]
  },
  {
   "cell_type": "markdown",
   "metadata": {
    "id": "AHYk7FvZhmeD"
   },
   "source": [
    "### Writing Your First Python Program  \n",
    "\n",
    "#### Example: Hello, World!  \n",
    "1. Open your editor or IDE.  \n",
    "2. Write the following code:"
   ]
  },
  {
   "cell_type": "code",
   "execution_count": 1,
   "metadata": {},
   "outputs": [
    {
     "name": "stdout",
     "output_type": "stream",
     "text": [
      "Hello, World!\n"
     ]
    }
   ],
   "source": [
    "print(\"Hello, World!\")"
   ]
  },
  {
   "cell_type": "markdown",
   "metadata": {},
   "source": [
    "### Variables and Data Types  \n",
    "\n",
    "#### Variables\n",
    "\n",
    "Python provides a wide range of data types to handle different kinds of data. Let’s explore them in detail, covering their characteristics, examples, and practical usage.\n",
    "\n",
    "---\n",
    "\n",
    "### **1. Numeric Data Types**\n",
    "Numeric data types represent numbers. Python supports three main numeric types:\n",
    "- **int**: Integer values (e.g., 5, -10, 0)\n",
    "- **float**: Floating-point numbers (e.g., 3.14, -0.5)\n",
    "- **complex**: Complex numbers with real and imaginary parts (e.g., `3+4j`)\n",
    "\n",
    "#### **Examples:**"
   ]
  },
  {
   "cell_type": "code",
   "execution_count": 4,
   "metadata": {},
   "outputs": [
    {
     "name": "stdout",
     "output_type": "stream",
     "text": [
      "<class 'int'>\n",
      "<class 'float'>\n",
      "<class 'complex'>\n"
     ]
    },
    {
     "data": {
      "text/plain": [
       "(10, 3.14, (2+3j))"
      ]
     },
     "execution_count": 4,
     "metadata": {},
     "output_type": "execute_result"
    }
   ],
   "source": [
    "a = 10       # int\n",
    "b = 3.14     # float\n",
    "c = 2 + 3j   # complex\n",
    "\n",
    "print(type(a))  # <class 'int'>\n",
    "print(type(b))  # <class 'float'>\n",
    "print(type(c))  # <class 'complex'>\n",
    "\n",
    "a, b, c"
   ]
  },
  {
   "cell_type": "markdown",
   "metadata": {},
   "source": [
    "#### **Operations:**\n",
    "In Python, arithmetic operations allow you to perform calculations on numeric data types such as integers and floats. Here's a breakdown of each operation with examples:\n",
    "\n",
    "- **Addition (`+`)**: Adds numbers.\n",
    "- **Subtraction (`-`)**: Subtracts numbers.\n",
    "- **Multiplication (`*`)**: Multiplies numbers.\n",
    "- **Division (`/`)**: Divides numbers (returns a float).\n",
    "- **Floor Division (`//`)**: Divides numbers (returns an integer).\n",
    "- **Modulus (`%`)**: Returns the remainder after division.\n",
    "- **Exponentiation (`**`)**: Raises a number to a power.\n",
    "- **Unary Plus (`+`)**: Returns the number itself.\n",
    "- **Unary Minus (`-`)**: Negates the number (makes it negative)."
   ]
  },
  {
   "cell_type": "code",
   "execution_count": 6,
   "metadata": {},
   "outputs": [
    {
     "name": "stdout",
     "output_type": "stream",
     "text": [
      "Addition: 7\n",
      "Subtraction: 3\n",
      "Multiplication: 10\n",
      "Division: 2.5\n",
      "Floor Division: 2\n",
      "Modulus: 1\n",
      "Exponentiation: 25\n",
      "Unary Plus: 5\n",
      "Unary Minus: -5\n"
     ]
    }
   ],
   "source": [
    "# Arithmetic operations\n",
    "x = 5\n",
    "y = 2\n",
    "\n",
    "print(\"Addition:\", x + y)  # Addition: 7\n",
    "print(\"Subtraction:\", x - y)  # Subtraction: 3\n",
    "print(\"Multiplication:\", x * y)  # Multiplication: 10\n",
    "print(\"Division:\", x / y)  # Division: 2.5\n",
    "print(\"Floor Division:\", x // y)  # Floor Division: 2\n",
    "print(\"Modulus:\", x % y)  # Modulus: 1\n",
    "print(\"Exponentiation:\", x ** y)  # Exponentiation: 25\n",
    "print(\"Unary Plus:\", +x)     # Unary Plus: 5\n",
    "print(\"Unary Minus:\", -x)     # Unary Minus: -5"
   ]
  },
  {
   "cell_type": "markdown",
   "metadata": {},
   "source": [
    "---\n",
    "\n",
    "### **2. Text Data Type**\n",
    "Python uses the **str** (string) data type to represent text. Strings are immutable, meaning their values cannot be changed after creation.\n",
    "\n",
    "#### **Common String Functions:**\n",
    "- `upper()` - Converts the string to uppercase.\n",
    "- `lower()` - Converts the string to lowercase.\n",
    "- `capitalize()` - Capitalizes the first letter of the string.\n",
    "- `replace(old, new)` - Replaces occurrences of a substring with another.\n",
    "- `split()` - Splits the string into a list of substrings.\n",
    "\n",
    "#### **Examples:**\n"
   ]
  },
  {
   "cell_type": "code",
   "execution_count": 7,
   "metadata": {},
   "outputs": [
    {
     "name": "stdout",
     "output_type": "stream",
     "text": [
      "Data Type: <class 'str'>\n"
     ]
    }
   ],
   "source": [
    "text = \"Welcome to Python Programming!\"\n",
    "print(\"Data Type:\", type(text))  # <class 'str'>"
   ]
  },
  {
   "cell_type": "markdown",
   "metadata": {},
   "source": [
    "#### **String Operations:**\n"
   ]
  },
  {
   "cell_type": "code",
   "execution_count": 8,
   "metadata": {},
   "outputs": [
    {
     "name": "stdout",
     "output_type": "stream",
     "text": [
      "String Concatenation: Welcome to Python\n",
      "String Repetition: Learn! Learn! \n"
     ]
    }
   ],
   "source": [
    "# String Concatenation\n",
    "greeting = \"Welcome\"\n",
    "language = \"Python\"\n",
    "print(\"String Concatenation:\", greeting + \" to \" + language)  # Output: Welcome to Python\n",
    "\n",
    "# String Repetition\n",
    "print(\"String Repetition:\", \"Learn! \" * 2)  # Output: Learn! Learn!"
   ]
  },
  {
   "cell_type": "markdown",
   "metadata": {},
   "source": [
    "#### **Common String Methods:**"
   ]
  },
  {
   "cell_type": "code",
   "execution_count": 9,
   "metadata": {},
   "outputs": [
    {
     "name": "stdout",
     "output_type": "stream",
     "text": [
      "Uppercase: HELLO UNIVERSE\n",
      "Lowercase: hello universe\n",
      "Capitalized: Hello universe\n",
      "Replaced Text: hello world\n",
      "Split Text: ['hello', 'universe']\n"
     ]
    }
   ],
   "source": [
    "text = \"hello universe\"\n",
    "print(\"Uppercase:\", text.upper())    # HELLO UNIVERSE\n",
    "print(\"Lowercase:\", text.lower())    # hello universe\n",
    "print(\"Capitalized:\", text.capitalize()) # Hello universe\n",
    "print(\"Replaced Text:\", text.replace(\"universe\", \"world\"))  # hello world\n",
    "print(\"Split Text:\", text.split())    # ['hello', 'universe']"
   ]
  },
  {
   "cell_type": "markdown",
   "metadata": {},
   "source": [
    "---\n",
    "\n",
    "### Rules for Naming Variables\n",
    "\n",
    "- **Must start with a letter or an underscore (`_`)**:\n"
   ]
  },
  {
   "cell_type": "code",
   "execution_count": 10,
   "metadata": {},
   "outputs": [],
   "source": [
    "_name = \"John\"  # Valid\n",
    "name = \"Alice\"  # Valid"
   ]
  },
  {
   "cell_type": "markdown",
   "metadata": {},
   "source": [
    "- **Cannot start with a number**"
   ]
  },
  {
   "cell_type": "code",
   "execution_count": 11,
   "metadata": {},
   "outputs": [
    {
     "ename": "SyntaxError",
     "evalue": "invalid decimal literal (676888644.py, line 1)",
     "output_type": "error",
     "traceback": [
      "\u001b[1;36m  Cell \u001b[1;32mIn[11], line 1\u001b[1;36m\u001b[0m\n\u001b[1;33m    1name = \"John\"  # Invalid\u001b[0m\n\u001b[1;37m    ^\u001b[0m\n\u001b[1;31mSyntaxError\u001b[0m\u001b[1;31m:\u001b[0m invalid decimal literal\n"
     ]
    }
   ],
   "source": [
    "1name = \"John\"  # Invalid"
   ]
  },
  {
   "cell_type": "markdown",
   "metadata": {},
   "source": [
    "- **Can only contain letters, numbers, and underscores**:"
   ]
  },
  {
   "cell_type": "code",
   "execution_count": 12,
   "metadata": {},
   "outputs": [],
   "source": [
    "user_name = \"Alice\"  # Valid"
   ]
  },
  {
   "cell_type": "markdown",
   "metadata": {},
   "source": [
    "- **Case-sensitive**:"
   ]
  },
  {
   "cell_type": "code",
   "execution_count": 13,
   "metadata": {},
   "outputs": [
    {
     "name": "stdout",
     "output_type": "stream",
     "text": [
      "25\n",
      "30\n"
     ]
    }
   ],
   "source": [
    "age = 25\n",
    "Age = 30\n",
    "print(age)  # Output: 25\n",
    "print(Age)  # Output: 30"
   ]
  },
  {
   "cell_type": "markdown",
   "metadata": {},
   "source": [
    "- **Avoid using Python reserved keywords** (e.g., `for`, `if`, `while`).\n"
   ]
  },
  {
   "cell_type": "markdown",
   "metadata": {},
   "source": [
    "---\n",
    "\n",
    "### Assigning Values to Variables\n",
    "\n",
    "#### Single Assignment\n",
    "Assign a value to a variable:"
   ]
  },
  {
   "cell_type": "code",
   "execution_count": 15,
   "metadata": {},
   "outputs": [],
   "source": [
    "x = 10"
   ]
  },
  {
   "cell_type": "markdown",
   "metadata": {},
   "source": [
    "#### Multiple Assignment\n",
    "Assign values to multiple variables at once:"
   ]
  },
  {
   "cell_type": "code",
   "execution_count": 16,
   "metadata": {},
   "outputs": [],
   "source": [
    "a, b, c = 5, 10, 15"
   ]
  },
  {
   "cell_type": "markdown",
   "metadata": {},
   "source": [
    "#### Same Value to Multiple Variables\n",
    "Assign the same value to multiple variables:"
   ]
  },
  {
   "cell_type": "code",
   "execution_count": 17,
   "metadata": {},
   "outputs": [],
   "source": [
    "x = y = z = 100"
   ]
  },
  {
   "cell_type": "markdown",
   "metadata": {},
   "source": [
    "---\n",
    "\n",
    "### Data Types in Python\n",
    "\n",
    "Python has several built-in data types, which are automatically assigned when a variable is created. Let’s explore them.\n",
    "\n",
    "---\n",
    "\n",
    "#### Numeric Types\n",
    "\n",
    "1. **Integer (`int`)**\n",
    "   - Represents whole numbers (positive, negative, or zero).\n",
    "   - No size limit (Python supports arbitrary precision).\n"
   ]
  },
  {
   "cell_type": "code",
   "execution_count": 18,
   "metadata": {},
   "outputs": [
    {
     "name": "stdout",
     "output_type": "stream",
     "text": [
      "<class 'int'>\n"
     ]
    }
   ],
   "source": [
    "x = 10\n",
    "y = -5\n",
    "print(type(x))  # Output: <class 'int'>"
   ]
  },
  {
   "cell_type": "markdown",
   "metadata": {},
   "source": [
    "2. **Floating-Point (`float`)**\n",
    "   - Represents decimal numbers or numbers with a fractional part.\n",
    "   - Limited by the precision of floating-point arithmetic."
   ]
  },
  {
   "cell_type": "code",
   "execution_count": 19,
   "metadata": {},
   "outputs": [
    {
     "name": "stdout",
     "output_type": "stream",
     "text": [
      "<class 'float'>\n"
     ]
    }
   ],
   "source": [
    "pi = 3.14159\n",
    "print(type(pi))  # Output: <class 'float'>"
   ]
  },
  {
   "cell_type": "markdown",
   "metadata": {},
   "source": [
    "3. **Complex Numbers (`complex`)**\n",
    "   - Represents numbers with real and imaginary parts (e.g., `2 + 3j`)."
   ]
  },
  {
   "cell_type": "code",
   "execution_count": 20,
   "metadata": {},
   "outputs": [
    {
     "name": "stdout",
     "output_type": "stream",
     "text": [
      "2.0\n",
      "3.0\n"
     ]
    }
   ],
   "source": [
    "z = 2 + 3j\n",
    "print(z.real)  # Output: 2.0\n",
    "print(z.imag)  # Output: 3.0"
   ]
  },
  {
   "cell_type": "markdown",
   "metadata": {},
   "source": [
    "---\n",
    "\n",
    "#### Text Type\n",
    "\n",
    "1. **String (`str`)**\n",
    "   - A sequence of characters enclosed in single (`'`) or double (`\"`) quotes.\n",
    "   - Strings are **immutable**, meaning they cannot be changed after creation.\n",
    "\n",
    "   **Examples:**"
   ]
  },
  {
   "cell_type": "code",
   "execution_count": null,
   "metadata": {},
   "outputs": [],
   "source": [
    "greeting = \"Hello, World!\"\n",
    "print(greeting[0])  # Output: H (accessing the first character)"
   ]
  },
  {
   "cell_type": "markdown",
   "metadata": {},
   "source": [
    "\n",
    "   **String Operations:**\n"
   ]
  },
  {
   "cell_type": "code",
   "execution_count": 22,
   "metadata": {},
   "outputs": [
    {
     "name": "stdout",
     "output_type": "stream",
     "text": [
      "Rajesh Kumar\n",
      "Namaste! Namaste! Namaste! \n"
     ]
    }
   ],
   "source": [
    "# Concatenation\n",
    "first_name = \"Rajesh\"\n",
    "last_name = \"Kumar\"\n",
    "full_name = first_name + \" \" + last_name\n",
    "print(full_name)  # Output: Rajesh Kumar\n",
    "\n",
    "# Repetition\n",
    "print(\"Namaste! \" * 3)  # Output: Namaste! Namaste! Namaste!"
   ]
  },
  {
   "cell_type": "markdown",
   "metadata": {},
   "source": [
    "---\n",
    "\n",
    "#### Sequence Types\n",
    "\n",
    "1. **List**\n",
    "   - An **ordered, mutable** collection of items.\n",
    "   - Items can be of mixed types."
   ]
  },
  {
   "cell_type": "code",
   "execution_count": 23,
   "metadata": {},
   "outputs": [
    {
     "name": "stdout",
     "output_type": "stream",
     "text": [
      "banana\n",
      "['mango', 'papaya', 'guava']\n"
     ]
    }
   ],
   "source": [
    "fruits = [\"mango\", \"banana\", \"guava\"]\n",
    "print(fruits[1])  # Output: banana (accessing the second item)\n",
    "fruits[1] = \"papaya\"  # Modifying the second item\n",
    "print(fruits)  # Output: ['mango', 'papaya', 'guava']"
   ]
  },
  {
   "cell_type": "markdown",
   "metadata": {},
   "source": [
    "2. **Tuple**\n",
    "   - An **ordered, immutable** collection of items."
   ]
  },
  {
   "cell_type": "code",
   "execution_count": 25,
   "metadata": {},
   "outputs": [
    {
     "name": "stdout",
     "output_type": "stream",
     "text": [
      "The second coordinate is: 20\n"
     ]
    }
   ],
   "source": [
    "coordinates = (10, 20, 30)\n",
    "print(\"The second coordinate is:\", coordinates[1])  # Output: 20"
   ]
  },
  {
   "cell_type": "markdown",
   "metadata": {},
   "source": [
    "---\n",
    "\n",
    "#### Boolean Type\n",
    "\n",
    "1. **Boolean (`bool`)**\n",
    "   - Represents `True` or `False`."
   ]
  },
  {
   "cell_type": "code",
   "execution_count": 26,
   "metadata": {},
   "outputs": [
    {
     "name": "stdout",
     "output_type": "stream",
     "text": [
      "<class 'bool'>\n"
     ]
    }
   ],
   "source": [
    "is_python_fun = True\n",
    "print(type(is_python_fun))  # Output: <class 'bool'>"
   ]
  },
  {
   "cell_type": "markdown",
   "metadata": {},
   "source": [
    "---\n",
    "\n",
    "#### Mapping Type\n",
    "\n",
    "1. **Dictionary (`dict`)**\n",
    "   - Stores data as **key-value pairs**.\n",
    "   - Keys must be unique and immutable, but values can be mutable.\n",
    "\n",
    "   **Examples:**\n"
   ]
  },
  {
   "cell_type": "code",
   "execution_count": 29,
   "metadata": {},
   "outputs": [
    {
     "name": "stdout",
     "output_type": "stream",
     "text": [
      "Name: Rahul\n",
      "Details: Name: Rahul, Age: 30, Is Student: False\n"
     ]
    }
   ],
   "source": [
    "name = \"Rahul\"\n",
    "details = {'name': 'Rahul', 'age': 30, 'is_student': False}\n",
    "\n",
    "print(f\"Name: {name}\")\n",
    "print(f\"Details: Name: {details['name']}, Age: {details['age']}, Is Student: {details['is_student']}\")"
   ]
  },
  {
   "cell_type": "markdown",
   "metadata": {},
   "source": [
    "\n",
    "**Operations:**\n",
    "```python\n",
    "# Accessing values\n",
    "print(person[\"name\"])  # Alice\n",
    "\n",
    "# Adding key-value pairs\n",
    "person[\"profession\"] = \"Engineer\"\n",
    "print(person)  # {'name': 'Alice', 'age': 25, 'city': 'New York', 'profession': 'Engineer'}\n",
    "\n",
    "# Removing key-value pairs\n",
    "del person[\"age\"]\n",
    "print(person)  # {'name': 'Alice', 'city': 'New York', 'profession': 'Engineer'}\n",
    "```\n"
   ]
  },
  {
   "cell_type": "markdown",
   "metadata": {},
   "source": [
    "\n",
    "---\n",
    "\n",
    "### **6. Set Data Type**\n",
    "The **set** represents an unordered collection of unique items.\n",
    "\n",
    "**Examples:**\n",
    "```python\n",
    "numbers = {1, 2, 3, 3, 4}\n",
    "print(numbers)  # {1, 2, 3, 4}\n",
    "```\n"
   ]
  },
  {
   "cell_type": "markdown",
   "metadata": {},
   "source": [
    "\n",
    "**Operations:**\n",
    "```python\n",
    "# Adding elements\n",
    "numbers.add(5)\n",
    "print(numbers)  # {1, 2, 3, 4, 5}\n",
    "\n",
    "# Removing elements\n",
    "numbers.remove(3)\n",
    "print(numbers)  # {1, 2, 4, 5}\n",
    "\n",
    "# Set operations\n",
    "a = {1, 2, 3}\n",
    "b = {3, 4, 5}\n",
    "print(a | b)  # Union: {1, 2, 3, 4, 5}\n",
    "print(a & b)  # Intersection: {3}\n",
    "print(a - b)  # Difference: {1, 2}\n",
    "```\n"
   ]
  },
  {
   "cell_type": "markdown",
   "metadata": {},
   "source": [
    "\n",
    "---\n",
    "\n",
    "### **7. None Type**\n",
    "The **None** type represents the absence of a value.\n",
    "\n",
    "**Examples:**\n",
    "```python\n",
    "x = None\n",
    "print(type(x))  # <class 'NoneType'>\n",
    "```\n"
   ]
  },
  {
   "cell_type": "markdown",
   "metadata": {},
   "source": [
    "\n",
    "---\n",
    "\n",
    "### **Type Conversion**\n",
    "You can convert between data types using functions like:\n",
    "- `int()`: Convert to integer\n",
    "- `float()`: Convert to float\n",
    "- `str()`: Convert to string\n",
    "- `bool()`: Convert to boolean\n",
    "\n",
    "**Examples:**\n",
    "```python\n",
    "x = \"10\"\n",
    "y = int(x)  # Converts string to integer\n",
    "print(type(y))  # <class 'int'>\n",
    "\n",
    "z = bool(0)  # Converts 0 to False\n",
    "print(z)  # False\n",
    "```\n",
    "\n"
   ]
  },
  {
   "cell_type": "markdown",
   "metadata": {},
   "source": [
    "---\n",
    "\n",
    "### Input and Output  \n",
    "\n",
    "#### Input  \n",
    "The `input()` function captures user input as a string.  \n",
    "\n",
    "**Example**: "
   ]
  },
  {
   "cell_type": "code",
   "execution_count": 35,
   "metadata": {},
   "outputs": [
    {
     "name": "stdout",
     "output_type": "stream",
     "text": [
      "Hello, 34!\n"
     ]
    }
   ],
   "source": [
    "name = input(\"Enter your name: \")\n",
    "print(\"Hello, \" + name + \"!\")"
   ]
  },
  {
   "cell_type": "markdown",
   "metadata": {},
   "source": [
    "#### Output  \n",
    "The `print()` function displays messages or variables.  "
   ]
  },
  {
   "cell_type": "code",
   "execution_count": 36,
   "metadata": {},
   "outputs": [
    {
     "name": "stdout",
     "output_type": "stream",
     "text": [
      "I am 25 years old.\n"
     ]
    }
   ],
   "source": [
    "age = 25\n",
    "print(\"I am\", age, \"years old.\")  # Output: I am 25 years old."
   ]
  },
  {
   "cell_type": "markdown",
   "metadata": {},
   "source": [
    "---\n",
    "\n",
    "### Comments  \n",
    "\n",
    "#### Single-line Comments  \n",
    "Start a comment with `#`.  \n",
    "```python\n",
    "# This is a single-line comment\n",
    "```  \n",
    "\n",
    "#### Multi-line Comments  \n",
    "Use triple quotes (`'''` or `\"\"\"`).  \n",
    "```python\n",
    "\"\"\"\n",
    "This is a\n",
    "multi-line comment.\n",
    "\"\"\"\n",
    "```  \n"
   ]
  },
  {
   "cell_type": "markdown",
   "metadata": {},
   "source": [
    "---\n",
    "\n",
    "### Operators  \n",
    "\n",
    "#### Arithmetic Operators  \n",
    "Perform mathematical operations.  \n",
    "```python\n",
    "x = 10\n",
    "y = 3\n",
    "print(x + y)  # Addition: 13\n",
    "print(x ** y) # Exponentiation: 1000 (10^3)\n",
    "```  \n",
    "\n",
    "#### Comparison Operators  \n",
    "Return `True` or `False` based on comparison.  \n",
    "```python\n",
    "print(x > y)  # True\n",
    "print(x == y) # False\n",
    "```  \n",
    "\n",
    "#### Logical Operators  \n",
    "Combine multiple conditions.  \n",
    "```python\n",
    "print(True and False)  # False\n",
    "print(not True)        # False\n",
    "```  \n",
    "\n",
    "#### Special Operators  \n",
    "- **Membership**: `in`, `not in`.  \n",
    "  ```python\n",
    "  print(\"a\" in \"apple\")  # True\n",
    "  ```  \n",
    "- **Identity**: `is`, `is not`.  \n",
    "  ```python\n",
    "  print(x is y)  # False (different objects)\n",
    "  ```  \n"
   ]
  },
  {
   "cell_type": "markdown",
   "metadata": {},
   "source": [
    "\n",
    "---\n",
    "\n",
    "### Python Syntax  \n",
    "\n",
    "#### Indentation  \n",
    "Python uses indentation to define code blocks.  \n",
    "```python\n",
    "if True:\n",
    "    print(\"Indented block\")  # Correct\n",
    "```  \n",
    "\n",
    "#### Line Continuation  \n",
    "Use a backslash (`\\`) or parentheses for long lines.  \n",
    "```python\n",
    "result = (10 + 20 +\n",
    "          30 + 40)\n",
    "```  \n",
    "\n",
    "#### Statement Separator  \n",
    "Use semicolons (`;`) to write multiple statements on one line.  \n",
    "```python\n",
    "x = 5; y = 10; print(x + y)\n",
    "```  \n",
    "\n",
    "\n"
   ]
  },
  {
   "cell_type": "markdown",
   "metadata": {},
   "source": [
    "---\n",
    "\n",
    "### Practical Examples  \n",
    "\n",
    "- **Addition Program**:  \n",
    "  ```python\n",
    "  a = 5\n",
    "  b = 10\n",
    "  print(\"Sum:\", a + b)\n",
    "  ```  \n",
    "\n",
    "- **Greeting Program**:  \n",
    "  ```python\n",
    "  name = input(\"Enter your name: \")\n",
    "  print(\"Hello, \" + name + \"!\")\n",
    "  ``` "
   ]
  },
  {
   "cell_type": "markdown",
   "metadata": {},
   "source": [
    "---\n",
    "\n",
    "### Exercises  \n",
    "\n",
    "- **Data Type Checker**:  \n",
    "  Write a program to input different values and display their data types.  \n",
    "  ```\n",
    "  Enter a value: 100\n",
    "  Data type: <class 'int'>\n",
    "  ```  \n",
    "\n",
    "- **Simple Calculator**:  \n",
    "  Accept two numbers and perform addition, subtraction, multiplication, and division.  \n",
    "\n",
    "- **Area of a Circle**:  \n",
    "  Write a program using the formula:  "
   ]
  },
  {
   "cell_type": "code",
   "execution_count": 34,
   "metadata": {},
   "outputs": [
    {
     "name": "stdout",
     "output_type": "stream",
     "text": [
      "Area: 50.26548245743669\n"
     ]
    }
   ],
   "source": [
    "from math import pi\n",
    "radius = float(input(\"Enter radius: \"))\n",
    "print(\"Area:\", pi * radius ** 2)"
   ]
  },
  {
   "cell_type": "markdown",
   "metadata": {},
   "source": [
    "\n",
    "---\n",
    "\n",
    "### Recap  \n",
    "\n",
    "Today, you learned:  \n",
    "- Basics of Python and setting up your environment.  \n",
    "- Writing your first Python program.  \n",
    "- Variables, data types, and operators.  \n",
    "- Input/output operations and error handling.  \n",
    "- Practical programming with examples and exercises.  "
   ]
  }
 ],
 "metadata": {
  "colab": {
   "provenance": []
  },
  "kernelspec": {
   "display_name": "base",
   "language": "python",
   "name": "python3"
  },
  "language_info": {
   "codemirror_mode": {
    "name": "ipython",
    "version": 3
   },
   "file_extension": ".py",
   "mimetype": "text/x-python",
   "name": "python",
   "nbconvert_exporter": "python",
   "pygments_lexer": "ipython3",
   "version": "3.12.4"
  }
 },
 "nbformat": 4,
 "nbformat_minor": 0
}
