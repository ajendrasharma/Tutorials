{
 "cells": [
  {
   "cell_type": "markdown",
   "metadata": {},
   "source": [
    "Certainly! Below is a **Google Colab–ready** guide to download YouTube videos using **pytube**. This guide includes:\n",
    "\n",
    "1. **Installing Dependencies**\n",
    "2. **Mounting Google Drive** (optional, for storing downloads)\n",
    "3. **Listing Available Streams** for a YouTube video\n",
    "4. **Downloading Videos** in the highest quality or a user-selected format\n",
    "\n",
    "You can execute each section in separate Colab cells for clarity and ease of use.\n",
    "\n",
    "---\n"
   ]
  },
  {
   "cell_type": "markdown",
   "metadata": {},
   "source": [
    "\n",
    "## 1. Install Required Libraries\n",
    "\n",
    "First, install the necessary Python libraries. We'll use `pytube` for downloading YouTube videos.\n"
   ]
  },
  {
   "cell_type": "code",
   "execution_count": null,
   "metadata": {
    "vscode": {
     "languageId": "plaintext"
    }
   },
   "outputs": [],
   "source": [
    "# Install pytube\n",
    "!pip install pytube --upgrade"
   ]
  },
  {
   "cell_type": "markdown",
   "metadata": {},
   "source": [
    "\n",
    "*Note: `ffmpeg` is typically pre-installed in Colab environments. If you encounter any issues, you can install it using the following command:*"
   ]
  },
  {
   "cell_type": "code",
   "execution_count": null,
   "metadata": {
    "vscode": {
     "languageId": "plaintext"
    }
   },
   "outputs": [],
   "source": [
    "# Install ffmpeg (optional, if needed)\n",
    "!apt-get -qq install ffmpeg"
   ]
  },
  {
   "cell_type": "markdown",
   "metadata": {},
   "source": [
    "---\n",
    "\n",
    "## 2. Mount Google Drive (Optional)\n",
    "\n",
    "Mounting Google Drive allows you to save downloaded videos directly to your Drive, ensuring they persist beyond the Colab session.\n"
   ]
  },
  {
   "cell_type": "code",
   "execution_count": null,
   "metadata": {
    "vscode": {
     "languageId": "plaintext"
    }
   },
   "outputs": [],
   "source": [
    "from google.colab import drive\n",
    "drive.mount('/content/drive')"
   ]
  },
  {
   "cell_type": "markdown",
   "metadata": {},
   "source": [
    "\n",
    "*After running the above code, follow the prompts to authorize Colab to access your Google Drive.*\n",
    "\n",
    "*You can choose a specific folder in your Drive to save downloads. For example:*\n"
   ]
  },
  {
   "cell_type": "code",
   "execution_count": null,
   "metadata": {
    "vscode": {
     "languageId": "plaintext"
    }
   },
   "outputs": [],
   "source": [
    "import os\n",
    "\n",
    "# Define the download directory within your Drive\n",
    "download_dir = \"/content/drive/MyDrive/YouTube_Downloads\"\n",
    "\n",
    "# Create the directory if it doesn't exist\n",
    "os.makedirs(download_dir, exist_ok=True)"
   ]
  },
  {
   "cell_type": "markdown",
   "metadata": {},
   "source": [
    "---\n"
   ]
  },
  {
   "cell_type": "markdown",
   "metadata": {},
   "source": [
    "\n",
    "## 3. Define Helper Functions\n",
    "\n",
    "Create functions to list available streams and download videos based on user preference.\n"
   ]
  },
  {
   "cell_type": "code",
   "execution_count": null,
   "metadata": {
    "vscode": {
     "languageId": "plaintext"
    }
   },
   "outputs": [],
   "source": [
    "from pytube import YouTube\n",
    "\n",
    "def list_available_streams(yt: YouTube):\n",
    "    \"\"\"\n",
    "    Lists all available streams (both progressive and adaptive).\n",
    "    Allows you to pick a specific itag to download if desired.\n",
    "    \"\"\"\n",
    "    print(\"\\n=== Available Streams ===\")\n",
    "    streams = yt.streams.order_by('resolution').desc()\n",
    "    for stream in streams:\n",
    "        itag = stream.itag\n",
    "        res = stream.resolution or \"N/A\"\n",
    "        abr = stream.abr or \"N/A\"\n",
    "        mime = stream.mime_type\n",
    "        type_tag = \"video+audio\" if stream.is_progressive else \"adaptive\"\n",
    "        print(f\"itag={itag:<5} | resolution={res:<6} | abr={abr:<5} | type={mime:<12} | {type_tag}\")\n",
    "\n",
    "def download_video(yt: YouTube, itag: int, output_path: str):\n",
    "    \"\"\"\n",
    "    Downloads the YouTube video with the specified itag.\n",
    "    \n",
    "    :param yt: YouTube object\n",
    "    :param itag: itag of the desired stream\n",
    "    :param output_path: Directory to save the downloaded video\n",
    "    \"\"\"\n",
    "    try:\n",
    "        stream = yt.streams.get_by_itag(itag)\n",
    "        if stream:\n",
    "            print(f\"\\nDownloading stream with itag={itag}...\")\n",
    "            stream.download(output_path=output_path)\n",
    "            print(\"Download complete!\")\n",
    "        else:\n",
    "            print(f\"No stream found for itag={itag}\")\n",
    "    except Exception as e:\n",
    "        print(f\"Error downloading video: {e}\")"
   ]
  },
  {
   "cell_type": "markdown",
   "metadata": {},
   "source": [
    "---\n",
    "\n",
    "## 4. Download YouTube Video\n",
    "\n",
    "Now, let's use the above functions to download a YouTube video. We'll provide two options:\n",
    "\n",
    "1. **Download the Highest Resolution Progressive Stream (video+audio)**\n",
    "2. **List All Available Streams and Download a Selected One**\n",
    "\n",
    "### Option A: Download Highest Resolution (video+audio)\n"
   ]
  },
  {
   "cell_type": "code",
   "execution_count": null,
   "metadata": {
    "vscode": {
     "languageId": "plaintext"
    }
   },
   "outputs": [],
   "source": [
    "def download_highest_resolution(url: str, output_path: str):\n",
    "    \"\"\"\n",
    "    Downloads the highest resolution progressive stream (video+audio).\n",
    "    \n",
    "    :param url: YouTube video URL\n",
    "    :param output_path: Directory to save the downloaded video\n",
    "    \"\"\"\n",
    "    try:\n",
    "        yt = YouTube(url)\n",
    "        print(f\"\\nTitle: {yt.title}\")\n",
    "        print(f\"Author: {yt.author}\")\n",
    "        print(f\"Views: {yt.views}\")\n",
    "        print(f\"Length: {yt.length} seconds\")\n",
    "        \n",
    "        print(\"\\nDownloading highest resolution progressive stream...\")\n",
    "        stream = yt.streams.get_highest_resolution()\n",
    "        if stream:\n",
    "            stream.download(output_path=output_path)\n",
    "            print(\"Download complete!\")\n",
    "        else:\n",
    "            print(\"No progressive streams available for this video.\")\n",
    "    except Exception as e:\n",
    "        print(f\"Error: {e}\")"
   ]
  },
  {
   "cell_type": "markdown",
   "metadata": {},
   "source": [
    "### Option B: List All Streams and Download Selected Format"
   ]
  },
  {
   "cell_type": "code",
   "execution_count": null,
   "metadata": {
    "vscode": {
     "languageId": "plaintext"
    }
   },
   "outputs": [],
   "source": [
    "def download_selected_format(url: str, output_path: str):\n",
    "    \"\"\"\n",
    "    Lists all available streams for a YouTube video and allows the user to select one to download.\n",
    "    \n",
    "    :param url: YouTube video URL\n",
    "    :param output_path: Directory to save the downloaded video\n",
    "    \"\"\"\n",
    "    try:\n",
    "        yt = YouTube(url)\n",
    "        print(f\"\\nTitle: {yt.title}\")\n",
    "        print(f\"Author: {yt.author}\")\n",
    "        print(f\"Views: {yt.views}\")\n",
    "        print(f\"Length: {yt.length} seconds\")\n",
    "        \n",
    "        # List all available streams\n",
    "        list_available_streams(yt)\n",
    "        \n",
    "        # Prompt user to enter desired itag\n",
    "        itag_input = input(\"\\nEnter the itag of the stream you want to download (or press Enter to cancel): \")\n",
    "        if itag_input.strip() == \"\":\n",
    "            print(\"Download cancelled.\")\n",
    "            return\n",
    "        itag = int(itag_input)\n",
    "        \n",
    "        # Download the selected stream\n",
    "        download_video(yt, itag, output_path)\n",
    "        \n",
    "    except Exception as e:\n",
    "        print(f\"Error: {e}\")"
   ]
  },
  {
   "cell_type": "markdown",
   "metadata": {},
   "source": [
    "\n",
    "---\n"
   ]
  },
  {
   "cell_type": "markdown",
   "metadata": {},
   "source": [
    "\n",
    "## 5. Usage Examples\n",
    "\n",
    "### Example 1: Download Highest Resolution Progressive Stream"
   ]
  },
  {
   "cell_type": "code",
   "execution_count": null,
   "metadata": {
    "vscode": {
     "languageId": "plaintext"
    }
   },
   "outputs": [],
   "source": [
    "# Define the YouTube video URL\n",
    "video_url = \"https://www.youtube.com/watch?v=YOUR_VIDEO_ID\"  # Replace with your YouTube video URL\n",
    "\n",
    "# Define the download directory (e.g., Google Drive folder)\n",
    "download_directory = \"/content/drive/MyDrive/YouTube_Downloads\"  # Adjust as needed\n",
    "\n",
    "# Download the highest resolution progressive stream\n",
    "download_highest_resolution(video_url, download_directory)"
   ]
  },
  {
   "cell_type": "markdown",
   "metadata": {},
   "source": [
    "\n",
    "### Example 2: List All Available Streams and Download a Selected Format"
   ]
  },
  {
   "cell_type": "code",
   "execution_count": null,
   "metadata": {
    "vscode": {
     "languageId": "plaintext"
    }
   },
   "outputs": [],
   "source": [
    "# Define the YouTube video URL\n",
    "video_url = \"https://www.youtube.com/watch?v=YOUR_VIDEO_ID\"  # Replace with your YouTube video URL\n",
    "\n",
    "# Define the download directory (e.g., Google Drive folder)\n",
    "download_directory = \"/content/drive/MyDrive/YouTube_Downloads\"  # Adjust as needed\n",
    "\n",
    "# List streams and download selected format\n",
    "download_selected_format(video_url, download_directory)"
   ]
  },
  {
   "cell_type": "markdown",
   "metadata": {},
   "source": [
    "\n",
    "*When you run `download_selected_format`, it will list all available streams with their corresponding `itag` values. You can then input the `itag` number of the stream you wish to download.*\n",
    "\n",
    "---\n"
   ]
  },
  {
   "cell_type": "markdown",
   "metadata": {},
   "source": [
    "\n",
    "## 6. Putting It All Together\n",
    "\n",
    "For convenience, you can combine all the above steps into a single Colab cell. Here's how:\n",
    "\n",
    "```python\n",
    "# ======================================================\n",
    "# 1. Install Dependencies\n",
    "# ======================================================\n",
    "!pip install pytube --upgrade\n",
    "!apt-get -qq install ffmpeg\n",
    "\n",
    "# ======================================================\n",
    "# 2. Mount Google Drive (Optional)\n",
    "# ======================================================\n",
    "from google.colab import drive\n",
    "drive.mount('/content/drive')\n",
    "\n",
    "import os\n",
    "\n",
    "# Define the download directory within your Drive\n",
    "download_dir = \"/content/drive/MyDrive/YouTube_Downloads\"\n",
    "os.makedirs(download_dir, exist_ok=True)\n"
   ]
  },
  {
   "cell_type": "markdown",
   "metadata": {},
   "source": [
    "\n",
    "# ======================================================\n",
    "# 3. Define Helper Functions\n",
    "# ======================================================\n",
    "from pytube import YouTube\n",
    "\n",
    "def list_available_streams(yt: YouTube):\n",
    "    \"\"\"\n",
    "    Lists all available streams (both progressive and adaptive).\n",
    "    Allows you to pick a specific itag to download if desired.\n",
    "    \"\"\"\n",
    "    print(\"\\n=== Available Streams ===\")\n",
    "    streams = yt.streams.order_by('resolution').desc()\n",
    "    for stream in streams:\n",
    "        itag = stream.itag\n",
    "        res = stream.resolution or \"N/A\"\n",
    "        abr = stream.abr or \"N/A\"\n",
    "        mime = stream.mime_type\n",
    "        type_tag = \"video+audio\" if stream.is_progressive else \"adaptive\"\n",
    "        print(f\"itag={itag:<5} | resolution={res:<6} | abr={abr:<5} | type={mime:<12} | {type_tag}\")\n",
    "\n",
    "def download_video(yt: YouTube, itag: int, output_path: str):\n",
    "    \"\"\"\n",
    "    Downloads the YouTube video with the specified itag.\n",
    "    \n",
    "    :param yt: YouTube object\n",
    "    :param itag: itag of the desired stream\n",
    "    :param output_path: Directory to save the downloaded video\n",
    "    \"\"\"\n",
    "    try:\n",
    "        stream = yt.streams.get_by_itag(itag)\n",
    "        if stream:\n",
    "            print(f\"\\nDownloading stream with itag={itag}...\")\n",
    "            stream.download(output_path=output_path)\n",
    "            print(\"Download complete!\")\n",
    "        else:\n",
    "            print(f\"No stream found for itag={itag}\")\n",
    "    except Exception as e:\n",
    "        print(f\"Error downloading video: {e}\")\n",
    "\n",
    "def download_highest_resolution(url: str, output_path: str):\n",
    "    \"\"\"\n",
    "    Downloads the highest resolution progressive stream (video+audio).\n",
    "    \n",
    "    :param url: YouTube video URL\n",
    "    :param output_path: Directory to save the downloaded video\n",
    "    \"\"\"\n",
    "    try:\n",
    "        yt = YouTube(url)\n",
    "        print(f\"\\nTitle: {yt.title}\")\n",
    "        print(f\"Author: {yt.author}\")\n",
    "        print(f\"Views: {yt.views}\")\n",
    "        print(f\"Length: {yt.length} seconds\")\n",
    "        \n",
    "        print(\"\\nDownloading highest resolution progressive stream...\")\n",
    "        stream = yt.streams.get_highest_resolution()\n",
    "        if stream:\n",
    "            stream.download(output_path=output_path)\n",
    "            print(\"Download complete!\")\n",
    "        else:\n",
    "            print(\"No progressive streams available for this video.\")\n",
    "    except Exception as e:\n",
    "        print(f\"Error: {e}\")\n",
    "\n",
    "def download_selected_format(url: str, output_path: str):\n",
    "    \"\"\"\n",
    "    Lists all available streams for a YouTube video and allows the user to select one to download.\n",
    "    \n",
    "    :param url: YouTube video URL\n",
    "    :param output_path: Directory to save the downloaded video\n",
    "    \"\"\"\n",
    "    try:\n",
    "        yt = YouTube(url)\n",
    "        print(f\"\\nTitle: {yt.title}\")\n",
    "        print(f\"Author: {yt.author}\")\n",
    "        print(f\"Views: {yt.views}\")\n",
    "        print(f\"Length: {yt.length} seconds\")\n",
    "        \n",
    "        # List all available streams\n",
    "        list_available_streams(yt)\n",
    "        \n",
    "        # Prompt user to enter desired itag\n",
    "        itag_input = input(\"\\nEnter the itag of the stream you want to download (or press Enter to cancel): \")\n",
    "        if itag_input.strip() == \"\":\n",
    "            print(\"Download cancelled.\")\n",
    "            return\n",
    "        itag = int(itag_input)\n",
    "        \n",
    "        # Download the selected stream\n",
    "        download_video(yt, itag, output_path)\n",
    "        \n",
    "    except Exception as e:\n",
    "        print(f\"Error: {e}\")\n"
   ]
  },
  {
   "cell_type": "markdown",
   "metadata": {},
   "source": [
    "\n",
    "# ======================================================\n",
    "# 4. Usage Examples\n",
    "# ======================================================\n",
    "\n",
    "# Function to display menu and handle user choice\n",
    "def youtube_downloader():\n",
    "    print(\"\\n=== YouTube Downloader ===\")\n",
    "    print(\"1. Download Highest Resolution (video+audio)\")\n",
    "    print(\"2. List All Streams and Download Selected Format\")\n",
    "    choice = input(\"Enter your choice (1 or 2): \")\n",
    "    \n",
    "    if choice not in ['1', '2']:\n",
    "        print(\"Invalid choice. Exiting.\")\n",
    "        return\n",
    "    \n",
    "    video_url = input(\"\\nEnter the YouTube video URL: \")\n",
    "    if not video_url:\n",
    "        print(\"No URL provided. Exiting.\")\n",
    "        return\n",
    "    \n",
    "    if choice == '1':\n",
    "        download_highest_resolution(video_url, download_dir)\n",
    "    elif choice == '2':\n",
    "        download_selected_format(video_url, download_dir)\n",
    "\n",
    "# Run the downloader\n",
    "youtube_downloader()\n",
    "```\n",
    "\n",
    "---\n"
   ]
  },
  {
   "cell_type": "markdown",
   "metadata": {},
   "source": [
    "\n",
    "## 7. Step-by-Step Instructions\n",
    "\n",
    "1. **Open Google Colab**: Navigate to [Google Colab](https://colab.research.google.com/) and create a new notebook.\n",
    "\n",
    "2. **Copy and Paste the Entire Code Above** into a single cell.\n",
    "\n",
    "3. **Run the Cell**:\n",
    "   - Click on the cell and press **Shift + Enter** or click the **Run** button.\n",
    "   - This will:\n",
    "     - Install `pytube` and ensure `ffmpeg` is installed.\n",
    "     - Mount your Google Drive (you'll need to authorize access).\n",
    "     - Define the helper functions.\n",
    "     - Present a menu to choose between downloading the highest resolution stream or selecting a specific format.\n",
    "\n",
    "4. **Interact with the Script**:\n",
    "   - **Option 1**: Download the highest resolution progressive stream (includes both video and audio).\n",
    "   - **Option 2**: List all available streams (video-only, audio-only, video+audio) and choose a specific one to download by entering its `itag`.\n",
    "\n",
    "5. **Provide Input**:\n",
    "   - After choosing an option, you'll be prompted to enter the YouTube video URL.\n",
    "   - For **Option 2**, after listing the streams, you'll be prompted to enter the desired `itag`.\n",
    "\n",
    "6. **Locate Downloaded Videos**:\n",
    "   - Downloads will be saved to the specified `download_dir` in your Google Drive (e.g., `/content/drive/MyDrive/YouTube_Downloads`).\n",
    "   - You can navigate to this folder via the left sidebar in Colab (click on the **Files** icon) or directly in your Google Drive.\n",
    "\n",
    "---\n"
   ]
  },
  {
   "cell_type": "markdown",
   "metadata": {},
   "source": [
    "\n",
    "## 8. Example Usage\n",
    "\n",
    "### Example 1: Download Highest Resolution\n",
    "\n",
    "1. **Choose Option 1** when prompted.\n",
    "2. **Enter the YouTube Video URL** when prompted, e.g., `https://www.youtube.com/watch?v=dQw4w9WgXcQ`.\n",
    "3. **Wait for the Download** to complete. Progress will be shown in the cell output.\n",
    "\n",
    "### Example 2: List Streams and Download Selected Format\n",
    "\n",
    "1. **Choose Option 2** when prompted.\n",
    "2. **Enter the YouTube Video URL**, e.g., `https://www.youtube.com/watch?v=dQw4w9WgXcQ`.\n",
    "3. **View the Listed Streams**, which include various resolutions, audio qualities, and formats.\n",
    "4. **Enter the Desired `itag`** corresponding to the stream you wish to download.\n",
    "5. **Wait for the Download** to complete.\n",
    "\n",
    "*Note: If you select an adaptive stream (video-only or audio-only), you'll need to merge audio and video manually using `ffmpeg`. However, for most use cases, downloading a progressive stream (video+audio) is sufficient and easier.*\n",
    "\n",
    "---\n"
   ]
  },
  {
   "cell_type": "markdown",
   "metadata": {},
   "source": [
    "\n",
    "## 9. Additional Tips\n",
    "\n",
    "- **Merging Video and Audio Streams**: If you download video-only and audio-only streams separately, you can merge them using `ffmpeg`. Here's how:\n",
    "\n",
    "  ```python\n",
    "  def merge_video_audio(video_path, audio_path, output_path):\n",
    "      \"\"\"\n",
    "      Merges video and audio files into a single video file using ffmpeg.\n",
    "      \n",
    "      :param video_path: Path to the video-only file\n",
    "      :param audio_path: Path to the audio-only file\n",
    "      :param output_path: Path to save the merged video\n",
    "      \"\"\"\n",
    "      command = f\"ffmpeg -i '{video_path}' -i '{audio_path}' -c copy '{output_path}' -y\"\n",
    "      subprocess.run(command, shell=True, stdout=subprocess.DEVNULL, stderr=subprocess.STDOUT)\n",
    "      print(f\"Merged video saved to: {output_path}\")\n",
    "  \n",
    "  # Example usage:\n",
    "  video_only = \"/content/drive/MyDrive/YouTube_Downloads/video_only.mp4\"\n",
    "  audio_only = \"/content/drive/MyDrive/YouTube_Downloads/audio_only.webm\"\n",
    "  merged_output = \"/content/drive/MyDrive/YouTube_Downloads/merged_video.mp4\"\n",
    "  \n",
    "  merge_video_audio(video_only, audio_only, merged_output)\n",
    "  ```\n",
    "\n",
    "- **Handling Errors**: Ensure that the video URL is correct and that the video is available for download. Some videos may have restrictions that prevent downloading.\n",
    "\n",
    "- **Automating Downloads**: For multiple videos, you can modify the `youtube_downloader` function to accept a list of URLs and iterate through them.\n",
    "\n",
    "- **Respect YouTube's Terms of Service**: Always ensure you have the right to download and use the content you are accessing. Avoid downloading copyrighted material without permission.\n",
    "\n",
    "---\n"
   ]
  },
  {
   "cell_type": "markdown",
   "metadata": {},
   "source": [
    "\n",
    "## 10. Complete Colab Cell Example\n",
    "\n",
    "Here's a **complete Colab cell** combining all the above steps. You can copy and paste this into a single cell in your Colab notebook.\n",
    "\n",
    "```python\n",
    "# ======================================================\n",
    "# 1. Install Dependencies\n",
    "# ======================================================\n",
    "!pip install pytube --upgrade\n",
    "!apt-get -qq install ffmpeg\n",
    "\n",
    "# ======================================================\n",
    "# 2. Mount Google Drive (Optional)\n",
    "# ======================================================\n",
    "from google.colab import drive\n",
    "drive.mount('/content/drive')\n",
    "\n",
    "import os\n",
    "\n",
    "# Define the download directory within your Drive\n",
    "download_dir = \"/content/drive/MyDrive/YouTube_Downloads\"\n",
    "os.makedirs(download_dir, exist_ok=True)\n",
    "\n",
    "# ======================================================\n",
    "# 3. Define Helper Functions\n",
    "# ======================================================\n",
    "from pytube import YouTube\n",
    "\n",
    "def list_available_streams(yt: YouTube):\n",
    "    \"\"\"\n",
    "    Lists all available streams (both progressive and adaptive).\n",
    "    Allows you to pick a specific itag to download if desired.\n",
    "    \"\"\"\n",
    "    print(\"\\n=== Available Streams ===\")\n",
    "    streams = yt.streams.order_by('resolution').desc()\n",
    "    for stream in streams:\n",
    "        itag = stream.itag\n",
    "        res = stream.resolution or \"N/A\"\n",
    "        abr = stream.abr or \"N/A\"\n",
    "        mime = stream.mime_type\n",
    "        type_tag = \"video+audio\" if stream.is_progressive else \"adaptive\"\n",
    "        print(f\"itag={itag:<5} | resolution={res:<6} | abr={abr:<5} | type={mime:<12} | {type_tag}\")\n",
    "\n",
    "def download_video(yt: YouTube, itag: int, output_path: str):\n",
    "    \"\"\"\n",
    "    Downloads the YouTube video with the specified itag.\n",
    "    \n",
    "    :param yt: YouTube object\n",
    "    :param itag: itag of the desired stream\n",
    "    :param output_path: Directory to save the downloaded video\n",
    "    \"\"\"\n",
    "    try:\n",
    "        stream = yt.streams.get_by_itag(itag)\n",
    "        if stream:\n",
    "            print(f\"\\nDownloading stream with itag={itag}...\")\n",
    "            stream.download(output_path=output_path)\n",
    "            print(\"Download complete!\")\n",
    "        else:\n",
    "            print(f\"No stream found for itag={itag}\")\n",
    "    except Exception as e:\n",
    "        print(f\"Error downloading video: {e}\")\n",
    "\n",
    "def download_highest_resolution(url: str, output_path: str):\n",
    "    \"\"\"\n",
    "    Downloads the highest resolution progressive stream (video+audio).\n",
    "    \n",
    "    :param url: YouTube video URL\n",
    "    :param output_path: Directory to save the downloaded video\n",
    "    \"\"\"\n",
    "    try:\n",
    "        yt = YouTube(url)\n",
    "        print(f\"\\nTitle: {yt.title}\")\n",
    "        print(f\"Author: {yt.author}\")\n",
    "        print(f\"Views: {yt.views}\")\n",
    "        print(f\"Length: {yt.length} seconds\")\n",
    "        \n",
    "        print(\"\\nDownloading highest resolution progressive stream...\")\n",
    "        stream = yt.streams.get_highest_resolution()\n",
    "        if stream:\n",
    "            stream.download(output_path=output_path)\n",
    "            print(\"Download complete!\")\n",
    "        else:\n",
    "            print(\"No progressive streams available for this video.\")\n",
    "    except Exception as e:\n",
    "        print(f\"Error: {e}\")\n",
    "\n",
    "def download_selected_format(url: str, output_path: str):\n",
    "    \"\"\"\n",
    "    Lists all available streams for a YouTube video and allows the user to select one to download.\n",
    "    \n",
    "    :param url: YouTube video URL\n",
    "    :param output_path: Directory to save the downloaded video\n",
    "    \"\"\"\n",
    "    try:\n",
    "        yt = YouTube(url)\n",
    "        print(f\"\\nTitle: {yt.title}\")\n",
    "        print(f\"Author: {yt.author}\")\n",
    "        print(f\"Views: {yt.views}\")\n",
    "        print(f\"Length: {yt.length} seconds\")\n",
    "        \n",
    "        # List all available streams\n",
    "        list_available_streams(yt)\n",
    "        \n",
    "        # Prompt user to enter desired itag\n",
    "        itag_input = input(\"\\nEnter the itag of the stream you want to download (or press Enter to cancel): \")\n",
    "        if itag_input.strip() == \"\":\n",
    "            print(\"Download cancelled.\")\n",
    "            return\n",
    "        itag = int(itag_input)\n",
    "        \n",
    "        # Download the selected stream\n",
    "        download_video(yt, itag, output_path)\n",
    "        \n",
    "    except Exception as e:\n",
    "        print(f\"Error: {e}\")\n",
    "\n",
    "# ======================================================\n",
    "# 4. Download Function with User Interaction\n",
    "# ======================================================\n",
    "def youtube_downloader():\n",
    "    print(\"\\n=== YouTube Downloader ===\")\n",
    "    print(\"1. Download Highest Resolution (video+audio)\")\n",
    "    print(\"2. List All Streams and Download Selected Format\")\n",
    "    choice = input(\"Enter your choice (1 or 2): \")\n",
    "    \n",
    "    if choice not in ['1', '2']:\n",
    "        print(\"Invalid choice. Exiting.\")\n",
    "        return\n",
    "    \n",
    "    video_url = input(\"\\nEnter the YouTube video URL: \")\n",
    "    if not video_url:\n",
    "        print(\"No URL provided. Exiting.\")\n",
    "        return\n",
    "    \n",
    "    if choice == '1':\n",
    "        download_highest_resolution(video_url, download_dir)\n",
    "    elif choice == '2':\n",
    "        download_selected_format(video_url, download_dir)\n",
    "\n",
    "# ======================================================\n",
    "# 5. Run the Downloader\n",
    "# ======================================================\n",
    "youtube_downloader()\n",
    "```\n"
   ]
  },
  {
   "cell_type": "markdown",
   "metadata": {},
   "source": [
    "\n",
    "---\n",
    "\n",
    "## 11. Final Notes\n",
    "\n",
    "- **Interactive Inputs**: The above script uses `input()` to get user choices. In Colab, this works seamlessly when you run the cell and follow the prompts in the output area.\n",
    "\n",
    "- **Download Paths**: Ensure that the `download_dir` path exists and you have write permissions. The provided script creates the directory if it doesn't exist.\n",
    "\n",
    "- **Stream Types**:\n",
    "  - **Progressive Streams (`video+audio`)**: Contains both video and audio in a single file. Easier to download and use.\n",
    "  - **Adaptive Streams (`video-only` or `audio-only`)**: Separate streams for video and audio. Requires merging using `ffmpeg` if you wish to have both.\n",
    "\n",
    "- **Handling Adaptive Streams**: If you download adaptive streams, you can merge them using the `merge_video_audio` function provided earlier.\n",
    "\n",
    "- **Error Handling**: The script includes basic error handling. If you encounter issues, ensure that the video URL is correct and that the video is available for download.\n",
    "\n",
    "- **Respect Copyright**: Always ensure you have the right to download and use the content. Avoid downloading copyrighted material without permission.\n",
    "\n",
    "---\n",
    "\n",
    "By following the above steps, you can effectively download YouTube videos in Google Colab with options to choose the desired format and quality. Adjust the `download_dir` and other parameters as needed to fit your specific requirements."
   ]
  }
 ],
 "metadata": {
  "language_info": {
   "name": "python"
  }
 },
 "nbformat": 4,
 "nbformat_minor": 2
}
