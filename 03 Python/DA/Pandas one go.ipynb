{
    "cells": [
        {
            "cell_type": "markdown",
            "metadata": {},
            "source": [
                "## Series Data Structure\n",
                "\n",
                "**Creating a Series**"
            ]
        },
        {
            "cell_type": "code",
            "execution_count": None,
            "metadata": {},
            "source": [
                "import pandas as pd\n",
                "import numpy as np\n",
                "\n",
                "# From list with custom index\n",
                "monuments = pd.Series(['Taj Mahal', 'Qutub Minar', 'Red Fort', 'Hawa Mahal', 'Gateway of India'],\n",
                "                     index=['Agra', 'Delhi', 'Delhi', 'Jaipur', 'Mumbai'])\n",
                "\n",
                "# From dictionary\n",
                "population_data = pd.Series({\n",
                "    'Maharashtra': 112374333,\n",
                "    'Uttar Pradesh': 199812341,\n",
                "    'Bihar': 103804637,\n",
                "    'West Bengal': 91347736,\n",
                "    'Madhya Pradesh': 72597565\n",
                "})"
            ]
        },
        {
            "cell_type": "markdown",
            "metadata": {},
            "source": [
                "**Series Operations**"
            ]
        },
        {
            "cell_type": "code",
            "execution_count": None,
            "metadata": {},
            "source": [
                "# Indexing\n",
                "monuments['Delhi']  # Label based\n",
                "monuments[0]        # Position based\n",
                "monuments[1:3]      # Slicing\n",
                "\n",
                "# Mathematical operations\n",
                "literacy_rates = pd.Series({\n",
                "    'Kerala': 97,\n",
                "    'Delhi': 89,\n",
                "    'Bihar': 64,\n",
                "    'Rajasthan': 69\n",
                "})\n",
                "literacy_rates * 100  # Vectorized operations"
            ]
        },
        {
            "cell_type": "markdown",
            "metadata": {},
            "source": [
                "## DataFrame Data Structure\n",
                "\n",
                "**Creating DataFrames**"
            ]
        },
        {
            "cell_type": "code",
            "execution_count": None,
            "metadata": {},
            "source": [
                "# From dictionary\n",
                "indian_states = pd.DataFrame({\n",
                "    \"State\": ['Andhra Pradesh', 'Maharashtra', 'Karnataka', 'Kerala', 'Tamil Nadu'],\n",
                "    \"Capital\": ['Hyderabad', 'Mumbai', 'Bengaluru', 'Trivandrum', 'Chennai'],\n",
                "    \"Literacy\": [89, 77, 82, 97, 85],\n",
                "    \"Temperature\": [33, 30, 29, 31, 32]\n",
                "})"
            ]
        },
        {
            "cell_type": "markdown",
            "metadata": {},
            "source": [
                "**DataFrame Operations**\n",
                "\n",
                "**Column Selection**"
            ]
        },
        {
            "cell_type": "code",
            "execution_count": None,
            "metadata": {},
            "source": [
                "# Single column\n",
                "states = indian_states['State']\n",
                "\n",
                "# Multiple columns\n",
                "state_literacy = indian_states[['State', 'Literacy']]"
            ]
        },
        {
            "cell_type": "markdown",
            "metadata": {},
            "source": [
                "**Row Selection**"
            ]
        },
        {
            "cell_type": "code",
            "execution_count": None,
            "metadata": {},
            "source": [
                "# Using iloc for integer-based indexing\n",
                "first_row = indian_states.iloc[0]\n",
                "\n",
                "# Using loc for label-based indexing\n",
                "kerala_data = indian_states.loc[indian_states['State'] == 'Kerala']\n",
                "\n",
                "# Filtering\n",
                "high_literacy = indian_states[indian_states['Literacy'] > 90]"
            ]
        },
        {
            "cell_type": "markdown",
            "metadata": {},
            "source": [
                "## Data Manipulation Methods\n",
                "\n",
                "**Basic Information**"
            ]
        },
        {
            "cell_type": "code",
            "execution_count": None,
            "metadata": {},
            "source": [
                "indian_states.shape    # Dimensions\n",
                "indian_states.info()   # Dataset info\n",
                "indian_states.describe()  # Statistical summary"
            ]
        },
        {
            "cell_type": "markdown",
            "metadata": {},
            "source": [
                "**Sorting**"
            ]
        },
        {
            "cell_type": "code",
            "execution_count": None,
            "metadata": {},
            "source": [
                "# Sort by literacy rate\n",
                "sorted_states = indian_states.sort_values('Literacy', ascending=False)"
            ]
        },
        {
            "cell_type": "markdown",
            "metadata": {},
            "source": [
                "**Grouping**"
            ]
        },
        {
            "cell_type": "code",
            "execution_count": None,
            "metadata": {},
            "source": [
                "# Example with employee data\n",
                "employee_data = pd.DataFrame({\n",
                "    'Department': ['IT', 'HR', 'IT', 'Finance', 'HR'],\n",
                "    'Salary': [75000, 65000, 88000, 92000, 67000]\n",
                "})\n",
                "dept_salary = employee_data.groupby('Department')['Salary'].mean()"
            ]
        },
        {
            "cell_type": "markdown",
            "metadata": {},
            "source": [
                "**Missing Values**"
            ]
        },
        {
            "cell_type": "code",
            "execution_count": None,
            "metadata": {},
            "source": [
                "# Check for missing values\n",
                "indian_states.isnull().sum()\n",
                "\n",
                "# Drop missing values\n",
                "clean_data = indian_states.dropna()\n",
                "\n",
                "# Fill missing values\n",
                "filled_data = indian_states.fillna(0)"
            ]
        }
    ],
    "metadata": {
        "kernelspec": {
            "display_name": "Python 3",
            "language": "python",
            "name": "python3"
        },
        "language_info": {
            "name": "python",
            "version": "3.12.8"
        }
    },
    "nbformat": 4,
    "nbformat_minor": 5
}